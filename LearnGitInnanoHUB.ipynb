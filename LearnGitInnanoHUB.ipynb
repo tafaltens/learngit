{
 "cells": [
  {
   "cell_type": "markdown",
   "metadata": {},
   "source": [
    "# Learning Git in nanoHUB (top level notebook)"
   ]
  },
  {
   "cell_type": "markdown",
   "metadata": {},
   "source": [
    "Git is already installed in nanoHUB, so you can use the git commands without installing anything.\n",
    "\n",
    "If you want to publish a tool in nanoHUB, you will need to understand how to use a version control system.  nanoHUB initially used Subversion, but is now moving on to the more modern Git.  To update older tools created using Subversion, you will need to use subversion commands. All new tools should be created using a git repo.\n",
    "\n",
    "There are two mechanisms for creating your tool's remote git repo. When you register a new tool and select the local git option (We should rename this), a git repo in nanoFORGE is created.\n",
    "You can also copy one of  NCN's tool templates in GitHUB, and then link your new GitHub repo to your new tool, in the tool creation process. \n",
    "\n",
    "There are a lot of good online resources for learning about git.  \n",
    "These notebooks will provide you with access to some repos in nanoFORGE and in GitHub so that you can try some of the commands from your nanoHUB account."
   ]
  },
  {
   "cell_type": "raw",
   "metadata": {},
   "source": []
  },
  {
   "cell_type": "markdown",
   "metadata": {},
   "source": [
    "## Table of Contents\n",
    "- [Git Basics](GitBasics.ipynb)\n",
    "- [Learning to use git with nanoFORGE](nanoFORGEexercises.ipynb)\n",
    "- [Learning to use git with GitHub](GitHubExercises.ipynb)\n"
   ]
  },
  {
   "cell_type": "markdown",
   "metadata": {},
   "source": [
    "\n"
   ]
  }
 ],
 "metadata": {
  "kernelspec": {
   "display_name": "Python 3",
   "language": "python",
   "name": "python3"
  },
  "language_info": {
   "codemirror_mode": {
    "name": "ipython",
    "version": 3
   },
   "file_extension": ".py",
   "mimetype": "text/x-python",
   "name": "python",
   "nbconvert_exporter": "python",
   "pygments_lexer": "ipython3",
   "version": "3.7.7"
  }
 },
 "nbformat": 4,
 "nbformat_minor": 4
}

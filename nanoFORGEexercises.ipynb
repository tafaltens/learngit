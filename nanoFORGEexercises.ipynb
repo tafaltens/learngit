{
 "cells": [
  {
   "cell_type": "markdown",
   "metadata": {},
   "source": [
    "# Learning git using nanoFORGE\n",
    "\n",
    "There is a nanoHUB tool called \"toolshortname\"  -- oops, that is not the tool I want to use.  I want the gitlocal tool.\n",
    "\n",
    "It's status page is available at this URL: [https://nanohub.org/tools/toolshortname/status](https://nanohub.org/tools/toolshortname/status)\n",
    "Click the link to go to the tool's status page\n",
    "\n",
    "It's status page is available at this URL: [https://nanohub.org/tools/gitlocaltool/status](https://nanohub.org/tools/gitlocaltool/status)\n",
    "Click the link to go to the tool's status page\n"
   ]
  },
  {
   "cell_type": "code",
   "execution_count": null,
   "metadata": {},
   "outputs": [],
   "source": []
  }
 ],
 "metadata": {
  "kernelspec": {
   "display_name": "Python 3",
   "language": "python",
   "name": "python3"
  },
  "language_info": {
   "codemirror_mode": {
    "name": "ipython",
    "version": 3
   },
   "file_extension": ".py",
   "mimetype": "text/x-python",
   "name": "python",
   "nbconvert_exporter": "python",
   "pygments_lexer": "ipython3",
   "version": "3.7.7"
  }
 },
 "nbformat": 4,
 "nbformat_minor": 4
}

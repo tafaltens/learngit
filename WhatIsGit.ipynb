{
 "cells": [
  {
   "cell_type": "markdown",
   "metadata": {},
   "source": [
    "# What is Git?\n",
    "\n",
    "\n",
    "## Git Documentation\n",
    "\n",
    "The Git documentation is quite good, and includes the[Pro Git book](https://www.git-scm.com/book/en/v2)\n",
    "\n",
    "Git is already installed in nanoHUB, so you can use the Git commands without installing anything.\n",
    "\n",
    "Some sections of particular importance are:\n",
    "\n",
    "### [1.3 Getting Started - What is Git?](https://www.git-scm.com/book/en/v2/Getting-Started-What-is-Git%3F)\n",
    "\n",
    "Key concepts to learn from this section:\n",
    "- How snapshots are used in the Git VCS\n",
    "- The three states your tracked files can be in: modified, staged, or committed\n",
    "- The basic Git workflow\n",
    "\n",
    "### [2.1 Git Basics - Getting a Git Repository](https://www.git-scm.com/book/en/v2/Git-Basics-Getting-a-Git-Repository)\n",
    "\n",
    "#### Cloning a Git Repository\n",
    "You can clone a tool repo to your local working tree from either a GitHub repo or a nanoFORGE repo.  These will be demonstrated in the associated notebooks.\n",
    "\n",
    "### [2.2 Git Basics - Recording Changes to the Repository](https://www.git-scm.com/book/en/v2/Git-Basics-Recording-Changes-to-the-Repository)\n",
    "\n",
    "This is a very important section!  Learn the workflow for moving files through the different stages, and pushing files from your local repo to the remote repo.\n",
    "\n",
    "\n"
   ]
  },
  {
   "cell_type": "code",
   "execution_count": null,
   "metadata": {},
   "outputs": [],
   "source": []
  }
 ],
 "metadata": {
  "kernelspec": {
   "display_name": "Python 3",
   "language": "python",
   "name": "python3"
  },
  "language_info": {
   "codemirror_mode": {
    "name": "ipython",
    "version": 3
   },
   "file_extension": ".py",
   "mimetype": "text/x-python",
   "name": "python",
   "nbconvert_exporter": "python",
   "pygments_lexer": "ipython3",
   "version": "3.8.3"
  }
 },
 "nbformat": 4,
 "nbformat_minor": 4
}
